{
 "cells": [
  {
   "cell_type": "code",
   "execution_count": null,
   "metadata": {},
   "outputs": [],
   "source": [
    "%matplotlib inline\n",
    "import atomap.api as am\n",
    "import matplotlib.pyplot as plt\n",
    "import numpy as np\n",
    "from mpl_toolkits.axes_grid1 import make_axes_locatable\n",
    "import matplotlib\n",
    "from matplotlib.colors import LinearSegmentedColormap"
   ]
  },
  {
   "cell_type": "code",
   "execution_count": null,
   "metadata": {},
   "outputs": [],
   "source": [
    "import hyperspy.api as hs\n",
    "filename='HRSTEM_PbTe_processed.dm4'\n",
    "image = hs.load(filename) "
   ]
  },
  {
   "cell_type": "code",
   "execution_count": null,
   "metadata": {},
   "outputs": [],
   "source": [
    "# normalize the data\n",
    "norm = np.linalg.norm(image.data)       # To find the norm of the array\n",
    "                                        # Printing the value of the norm\n",
    "normalized_array = image.data/norm      \n",
    "normalized_array = normalized_array-np.min(normalized_array)"
   ]
  },
  {
   "cell_type": "code",
   "execution_count": null,
   "metadata": {},
   "outputs": [],
   "source": [
    "# assign the normalized array\n",
    "image.data = normalized_array"
   ]
  },
  {
   "cell_type": "code",
   "execution_count": null,
   "metadata": {},
   "outputs": [],
   "source": [
    "image.plot(colorbar=False,axes_off=True,title='')\n",
    "#plt.savefig('PbTe_raw.tif',dpi=300,bbox_inches='tight', pad_inches=0)"
   ]
  },
  {
   "cell_type": "code",
   "execution_count": null,
   "metadata": {},
   "outputs": [],
   "source": [
    "# test the parameter for separating columns\n",
    "s_peaks = am.get_feature_separation(image, separation_range=(13, 20), show_progressbar=True, pca=True,threshold_rel=0.05)\n",
    "s_peaks.plot()"
   ]
  },
  {
   "cell_type": "code",
   "execution_count": null,
   "metadata": {},
   "outputs": [],
   "source": [
    "A_positions = am.get_atom_positions(image, separation=13, pca=True, threshold_rel = 0.05)\n",
    "#number of detected atoms (atom columns)\n",
    "print(len(A_positions))\n",
    "print(A_positions.shape)"
   ]
  },
  {
   "cell_type": "code",
   "execution_count": null,
   "metadata": {},
   "outputs": [],
   "source": [
    "sublattice = am.Sublattice(A_positions, image=image.data, color = 'r')\n",
    "sublattice"
   ]
  },
  {
   "cell_type": "code",
   "execution_count": null,
   "metadata": {},
   "outputs": [],
   "source": [
    "sublattice.find_nearest_neighbors()\n",
    "sublattice.refine_atom_positions_using_center_of_mass()"
   ]
  },
  {
   "cell_type": "code",
   "execution_count": null,
   "metadata": {},
   "outputs": [],
   "source": [
    "sublattice.refine_atom_positions_using_2d_gaussian()"
   ]
  },
  {
   "cell_type": "code",
   "execution_count": null,
   "metadata": {},
   "outputs": [],
   "source": [
    "sublattice.get_position_history().plot()"
   ]
  },
  {
   "cell_type": "code",
   "execution_count": null,
   "metadata": {},
   "outputs": [],
   "source": [
    "# check the sublattice after refinement\n",
    "sublattice.plot()"
   ]
  },
  {
   "cell_type": "code",
   "execution_count": null,
   "metadata": {},
   "outputs": [],
   "source": [
    "sublattice.construct_zone_axes(atom_plane_tolerance=0.5)\n",
    "sublattice"
   ]
  },
  {
   "cell_type": "code",
   "execution_count": null,
   "metadata": {},
   "outputs": [],
   "source": [
    "sublattice.plot_planes()"
   ]
  },
  {
   "cell_type": "code",
   "execution_count": null,
   "metadata": {},
   "outputs": [],
   "source": [
    "from atomap.tools import remove_integrated_edge_cells\n",
    "i_points_A, i_record_A, p_record_A = sublattice.integrate_column_intensity()\n",
    "i_points_A, i_record_A, p_record_A = remove_integrated_edge_cells(i_points_A, i_record_A, p_record_A, edge_pixels=10)\n",
    "i_record_A.plot(cmap='viridis')"
   ]
  },
  {
   "cell_type": "code",
   "execution_count": null,
   "metadata": {},
   "outputs": [],
   "source": [
    "#Limit the radius of Voronoid cells\n",
    "#sub_A = ? elements?\n",
    "x_A, y_A = sublattice.x_position, sublattice.y_position\n",
    "i_points_A, i_record_A, p_record_A = am.integrate(sublattice.image, x_A, y_A, max_radius= 23) \n"
   ]
  },
  {
   "cell_type": "code",
   "execution_count": null,
   "metadata": {},
   "outputs": [],
   "source": [
    "i_record_A.plot(cmap = 'viridis')"
   ]
  },
  {
   "cell_type": "code",
   "execution_count": null,
   "metadata": {},
   "outputs": [],
   "source": [
    "# renormalize intensity\n",
    "i_points_A_norm = (i_points_A-np.min(i_points_A))/(np.max(i_points_A)-np.min(i_points_A))*100"
   ]
  },
  {
   "cell_type": "code",
   "execution_count": null,
   "metadata": {},
   "outputs": [],
   "source": [
    "# create customized diverging color map\n",
    "\n",
    "my_gradient = LinearSegmentedColormap.from_list('my_gradient', (\n",
    "    # Edit this gradient at https://eltos.github.io/gradient/#0:2D0076-35:7B55B9-50:FFFFFF-65:FFD78E-100:FFE65F\n",
    "    (0.000, (0.176, 0.000, 0.463)),\n",
    "    (0.350, (0.482, 0.333, 0.725)),\n",
    "    (0.500, (1.000, 1.000, 1.000)),\n",
    "    (0.650, (1.000, 0.843, 0.557)),\n",
    "    (1.000, (1.000, 0.902, 0.373))))"
   ]
  },
  {
   "cell_type": "code",
   "execution_count": null,
   "metadata": {},
   "outputs": [],
   "source": [
    "fig, ax = plt.subplots(figsize=(10,10))\n",
    "\n",
    "sc = ax.scatter(x_A, y_A, s = 150, c=i_points_A_norm, cmap=my_gradient,vmin=0,vmax=100,alpha=0.7)\n",
    "divider = make_axes_locatable(ax)\n",
    "cax = divider.append_axes(\"right\", size=\"5%\", pad=0.3)\n",
    "cbar=plt.colorbar(sc, cax=cax)\n",
    "cbar.set_ticks([0,25,50,75,100])\n",
    "cbar.ax.tick_params(labelsize=20,colors='w')\n",
    "for l in cbar.ax.yaxis.get_ticklabels():\n",
    "    l.set_weight('bold')\n",
    "    l.set_fontsize(25)\n",
    "ax.imshow(image,cmap='gray')\n",
    "ax.axis('off')\n",
    "plt.show()"
   ]
  },
  {
   "cell_type": "code",
   "execution_count": null,
   "metadata": {},
   "outputs": [],
   "source": []
  }
 ],
 "metadata": {
  "kernelspec": {
   "display_name": "Python 3 (ipykernel)",
   "language": "python",
   "name": "python3"
  },
  "language_info": {
   "codemirror_mode": {
    "name": "ipython",
    "version": 3
   },
   "file_extension": ".py",
   "mimetype": "text/x-python",
   "name": "python",
   "nbconvert_exporter": "python",
   "pygments_lexer": "ipython3",
   "version": "3.8.0"
  }
 },
 "nbformat": 4,
 "nbformat_minor": 4
}
